{
  "nbformat": 4,
  "nbformat_minor": 0,
  "metadata": {
    "colab": {
      "provenance": [],
      "authorship_tag": "ABX9TyNcanNy3dWQVw/nZaI3eWz2",
      "include_colab_link": true
    },
    "kernelspec": {
      "name": "python3",
      "display_name": "Python 3"
    },
    "language_info": {
      "name": "python"
    }
  },
  "cells": [
    {
      "cell_type": "markdown",
      "metadata": {
        "id": "view-in-github",
        "colab_type": "text"
      },
      "source": [
        "<a href=\"https://colab.research.google.com/github/shivanshgarg22/shivansh_102317207-Optimus_prime/blob/main/Shivansh_102317207.ipynb\" target=\"_parent\"><img src=\"https://colab.research.google.com/assets/colab-badge.svg\" alt=\"Open In Colab\"/></a>"
      ]
    },
    {
      "cell_type": "code",
      "execution_count": null,
      "metadata": {
        "colab": {
          "base_uri": "https://localhost:8080/"
        },
        "id": "9SmlcCO1oh2s",
        "outputId": "a74e62e6-34bf-4162-b489-f5adf1b6be94"
      },
      "outputs": [
        {
          "output_type": "stream",
          "name": "stdout",
          "text": [
            "My name is Optimus Prime.\n"
          ]
        }
      ],
      "source": [
        "#1.1Write a Python program to print \"Anything You find cool.\"\n",
        "print(\"My name is Optimus Prime.\")"
      ]
    },
    {
      "cell_type": "code",
      "source": [
        "#2.1 Write a program to add two numbers and print the result.\n",
        "a=99\n",
        "b=1\n",
        "print(a+b)"
      ],
      "metadata": {
        "colab": {
          "base_uri": "https://localhost:8080/"
        },
        "id": "n-6lkt98pm9f",
        "outputId": "83154d53-593f-441a-b22c-9462b6d148b1"
      },
      "execution_count": null,
      "outputs": [
        {
          "output_type": "stream",
          "name": "stdout",
          "text": [
            "100\n"
          ]
        }
      ]
    },
    {
      "cell_type": "code",
      "source": [
        "#2.2 Write a program to concatenate two strings and print the result.\n",
        "str1=\"MOM\"\n",
        "str2=\"DAD\"\n",
        "strfinal=str1+\" \"+str2\n",
        "print(strfinal)"
      ],
      "metadata": {
        "colab": {
          "base_uri": "https://localhost:8080/"
        },
        "id": "OMwyh66Kp7G4",
        "outputId": "a3815a2a-bcb8-4e36-d778-8731490424ee"
      },
      "execution_count": null,
      "outputs": [
        {
          "output_type": "stream",
          "name": "stdout",
          "text": [
            "MOM DAD\n"
          ]
        }
      ]
    },
    {
      "cell_type": "code",
      "source": [
        "# 2.3 Write a program to concatenate a string and a number and print the result.\n",
        "string=\"lightning Mcqueen\"\n",
        "number=95\n",
        "print(string+ str(number))"
      ],
      "metadata": {
        "colab": {
          "base_uri": "https://localhost:8080/"
        },
        "id": "_UyIhn8XqthD",
        "outputId": "438f6c6a-a709-4f2a-944e-d7b4a2aa97f9"
      },
      "execution_count": null,
      "outputs": [
        {
          "output_type": "stream",
          "name": "stdout",
          "text": [
            "lightning Mcqueen95\n"
          ]
        }
      ]
    },
    {
      "cell_type": "code",
      "source": [
        "#3.1 Write a Python program to check if a number is positive, negative, or zero using an if-else statement.\n",
        "a=int(input(\"please entr a val : \"))\n",
        "if(a>0):\n",
        "  print(\"POSITIVE + \")\n",
        "elif(a<0):\n",
        "  print(\"NEGATIVE - \")\n",
        "else:\n",
        "  print(\"ZERO\")"
      ],
      "metadata": {
        "colab": {
          "base_uri": "https://localhost:8080/"
        },
        "id": "dYxvnhuarCjS",
        "outputId": "63e95046-4df8-497c-c857-13263fead320"
      },
      "execution_count": null,
      "outputs": [
        {
          "output_type": "stream",
          "name": "stdout",
          "text": [
            "please entr a val : 69\n",
            "POSITIVE + \n"
          ]
        }
      ]
    },
    {
      "cell_type": "code",
      "source": [
        "#3.2 Write a program to check if a given number is odd or even.\n",
        "a=int(input(\"enter a val : \"))\n",
        "if(a%2==0):\n",
        "  print(\"EVEN\")\n",
        "else:\n",
        "  print(\"ODD\")"
      ],
      "metadata": {
        "colab": {
          "base_uri": "https://localhost:8080/"
        },
        "id": "iylqCHFHrqif",
        "outputId": "d5def200-1044-4658-bf2a-23734aab8055"
      },
      "execution_count": null,
      "outputs": [
        {
          "output_type": "stream",
          "name": "stdout",
          "text": [
            "enter a val : 6\n",
            "EVEN\n"
          ]
        }
      ]
    },
    {
      "cell_type": "code",
      "source": [
        "#4.1 Write a program to print numbers from 1 to 10 using a for loop.\n",
        "for i in range (1,11):\n",
        "  print(i)"
      ],
      "metadata": {
        "colab": {
          "base_uri": "https://localhost:8080/"
        },
        "id": "71fextTKsCaG",
        "outputId": "234fc41c-a771-4df2-dfc3-47d915eb78dc"
      },
      "execution_count": null,
      "outputs": [
        {
          "output_type": "stream",
          "name": "stdout",
          "text": [
            "1\n",
            "2\n",
            "3\n",
            "4\n",
            "5\n",
            "6\n",
            "7\n",
            "8\n",
            "9\n",
            "10\n"
          ]
        }
      ]
    },
    {
      "cell_type": "code",
      "source": [
        "# 4.2 Write a program to print numbers from 1 to 10 using a while loop.\n",
        "i=1\n",
        "while(i<=10):\n",
        "  print(i)\n",
        "  i=i+1\n"
      ],
      "metadata": {
        "colab": {
          "base_uri": "https://localhost:8080/"
        },
        "id": "MtjfE5OxsRLb",
        "outputId": "562c9295-3374-40f6-a052-569bdde37006"
      },
      "execution_count": null,
      "outputs": [
        {
          "output_type": "stream",
          "name": "stdout",
          "text": [
            "1\n",
            "2\n",
            "3\n",
            "4\n",
            "5\n",
            "6\n",
            "7\n",
            "8\n",
            "9\n",
            "10\n"
          ]
        }
      ]
    },
    {
      "cell_type": "code",
      "source": [
        "# 4.3 Write a program to calculate the sum of numbers from 1 to 100 using a loop.\n",
        "sum=0\n",
        "for i in range(1,101):\n",
        "  sum=sum+i\n",
        "print(sum)"
      ],
      "metadata": {
        "colab": {
          "base_uri": "https://localhost:8080/"
        },
        "id": "jMQLM3F9sszO",
        "outputId": "e8e788bd-5020-4e0a-c4bf-8823d37632b6"
      },
      "execution_count": null,
      "outputs": [
        {
          "output_type": "stream",
          "name": "stdout",
          "text": [
            "5050\n"
          ]
        }
      ]
    },
    {
      "cell_type": "code",
      "source": [
        "# 5.1 Create a list of 5 numbers. Write a program to find the largest and smallest numbers in the list.\n",
        "list=[10,20,30,40,50]\n",
        "print(min(list))\n",
        "print(max(list))"
      ],
      "metadata": {
        "colab": {
          "base_uri": "https://localhost:8080/"
        },
        "id": "vNPccKYctO_o",
        "outputId": "1d8ae2e0-0923-4150-c00b-6b769d6f961f"
      },
      "execution_count": null,
      "outputs": [
        {
          "output_type": "stream",
          "name": "stdout",
          "text": [
            "10\n",
            "50\n"
          ]
        }
      ]
    },
    {
      "cell_type": "code",
      "source": [
        "# 5.2 Create a dictionary with at least 3 key-value pairs. Write a program to retrieve the value of a given key\n",
        "dict = {\n",
        "    \"name1\":\"Shivansh\",\n",
        "    \"name2\":\"Kumar\",\n",
        "    \"name3\":\"Garg\",\n",
        "}\n",
        "\n",
        "print(dict[\"name1\"])\n",
        "print(dict[\"name2\"])\n",
        "print(dict[\"name3\"])"
      ],
      "metadata": {
        "id": "fDCoXMgRt5YX",
        "colab": {
          "base_uri": "https://localhost:8080/"
        },
        "outputId": "06044aa8-12b3-44a3-8758-e97e0d8978d3"
      },
      "execution_count": 7,
      "outputs": [
        {
          "output_type": "stream",
          "name": "stdout",
          "text": [
            "Shivansh\n",
            "Kumar\n",
            "Garg\n"
          ]
        }
      ]
    },
    {
      "cell_type": "code",
      "source": [
        "# 5.3 Write a program to sort a list of numbers in ascending and descending order.\n",
        "list=[23,34,5645,21,19,56,89]\n",
        "list.sort()\n",
        "print(list)\n",
        "list.reverse()\n",
        "print(list)"
      ],
      "metadata": {
        "colab": {
          "base_uri": "https://localhost:8080/"
        },
        "id": "WujaMLXfuCHX",
        "outputId": "c2225d60-e0df-406d-8c8e-e17970a4f18b"
      },
      "execution_count": null,
      "outputs": [
        {
          "output_type": "stream",
          "name": "stdout",
          "text": [
            "[19, 21, 23, 34, 56, 89, 5645]\n",
            "[5645, 89, 56, 34, 23, 21, 19]\n"
          ]
        }
      ]
    },
    {
      "cell_type": "code",
      "source": [
        "# 5.4 Write a program to merge two dictionaries into one.\n",
        "def merge(dict1,dict2):\n",
        "  final_dict=dict1.copy()\n",
        "  final_dict.update(dict2)\n",
        "  return final_dict\n",
        "dict1={\n",
        "    \"name\":\"Shivansh\",\n",
        "    \"rollno\":102317207,\n",
        "}\n",
        "dict2={\n",
        "    \"branch\":\"CSE\",\n",
        "    \"college\":\"TIET\",\n",
        "}\n",
        "final_dict=merge(dict1,dict2)\n",
        "print(final_dict)"
      ],
      "metadata": {
        "id": "0UMFEe1MuV0e",
        "colab": {
          "base_uri": "https://localhost:8080/"
        },
        "outputId": "cdd94266-85d0-4dae-d590-0a0dc7a8dbd7"
      },
      "execution_count": 11,
      "outputs": [
        {
          "output_type": "stream",
          "name": "stdout",
          "text": [
            "{'name': 'Shivansh', 'rollno': 102317207, 'branch': 'CSE', 'college': 'TIET'}\n"
          ]
        }
      ]
    },
    {
      "cell_type": "code",
      "source": [
        "# 6.1 Write a program to count the number of vowels in a given string.\n",
        "string=input(\"enter a string : \")\n",
        "length=len(string)\n",
        "count=0\n",
        "for i in range(0,length):\n",
        "  if(string[i]==\"a\" or string[i]==\"e\" or string[i]==\"i\" or string[i]==\"o\" or string[i]==\"u\"):\n",
        "    count=count+1\n",
        "print(count)\n"
      ],
      "metadata": {
        "colab": {
          "base_uri": "https://localhost:8080/"
        },
        "id": "eNCVnxxxua4f",
        "outputId": "50e6593b-a2d8-493a-d02f-7310d1ff7fb1"
      },
      "execution_count": null,
      "outputs": [
        {
          "output_type": "stream",
          "name": "stdout",
          "text": [
            "enter a string : shivansh\n",
            "2\n"
          ]
        }
      ]
    },
    {
      "cell_type": "code",
      "source": [
        "# 6.2 Write a program to reverse a string and print it.\n",
        "def rev(s):\n",
        "  return s[::-1]\n",
        "\n",
        "input_string=input(\"enter string : \")\n",
        "reversed_string=rev(input_string)\n",
        "print(reversed_string)\n",
        "\n"
      ],
      "metadata": {
        "colab": {
          "base_uri": "https://localhost:8080/"
        },
        "id": "lvZaBKMY7euX",
        "outputId": "59b8b9a6-eabd-412e-d631-b17800efebcc"
      },
      "execution_count": 7,
      "outputs": [
        {
          "output_type": "stream",
          "name": "stdout",
          "text": [
            "enter string : nescafe\n",
            "efacsen\n"
          ]
        }
      ]
    },
    {
      "cell_type": "code",
      "source": [
        "# 6.3 Write a program to check if a string is a palindrome.\n",
        "def rev(s):\n",
        "  return s[::-1]\n",
        "input_string=input(\"enter string : \")\n",
        "reversed_string=rev(input_string)\n",
        "if(input_string==reversed_string):\n",
        "  print(\"PALLINDROME\")\n",
        "else:\n",
        "  print(\"NOT A PALLINDROME\")\n",
        "\n"
      ],
      "metadata": {
        "id": "yscJoSWm7-xo",
        "colab": {
          "base_uri": "https://localhost:8080/"
        },
        "outputId": "c8697705-2de3-4215-a11d-92a24a11421d"
      },
      "execution_count": 11,
      "outputs": [
        {
          "output_type": "stream",
          "name": "stdout",
          "text": [
            "enter string : mom\n",
            "PALLINDROME\n"
          ]
        }
      ]
    },
    {
      "cell_type": "code",
      "source": [
        "#7.1 Write a program to create a text file, write some text into it, and then read and print the content.\n",
        "f=open(\"/content/new1.txt\",\"w\")\n",
        "f.write(\"welcome to python\")\n",
        "f.close()\n",
        "f=open(\"/content/new1.txt\",\"r\")\n",
        "data=f.read()\n",
        "print(data)\n",
        "f.close()\n"
      ],
      "metadata": {
        "colab": {
          "base_uri": "https://localhost:8080/"
        },
        "id": "_rSIYD_x3zo7",
        "outputId": "511705bb-97e9-4200-bf1a-e61ec6dfb0dc"
      },
      "execution_count": 16,
      "outputs": [
        {
          "output_type": "stream",
          "name": "stdout",
          "text": [
            "welcome to python\n"
          ]
        }
      ]
    },
    {
      "cell_type": "code",
      "source": [
        "#7.2 Write a program to append text to an existing file and print the updated content\n",
        "f=open(\"/sample.txt\",\"r+\")\n",
        "f.write(\"python world\")\n",
        "f.seek(0)\n",
        "data=f.read()\n",
        "print(data)\n",
        "f.close()\n"
      ],
      "metadata": {
        "colab": {
          "base_uri": "https://localhost:8080/"
        },
        "id": "t8jY47pb5ICO",
        "outputId": "585cc12c-dfa3-43f5-b510-7a151473ab95"
      },
      "execution_count": 29,
      "outputs": [
        {
          "output_type": "stream",
          "name": "stdout",
          "text": [
            "python world\n"
          ]
        }
      ]
    },
    {
      "cell_type": "code",
      "source": [
        "from google.colab import drive\n",
        "drive.mount('/content/drive')"
      ],
      "metadata": {
        "id": "zFg21ImJ0U1W"
      },
      "execution_count": null,
      "outputs": []
    },
    {
      "cell_type": "code",
      "source": [
        "# 7.3 Write a program to count the number of lines in a text file.\n",
        "f=open(\"/sample.txt\",\"r+\")\n",
        "lines=f.readlines()\n",
        "print(len(lines))"
      ],
      "metadata": {
        "colab": {
          "base_uri": "https://localhost:8080/"
        },
        "id": "IXWRD7T-5KAB",
        "outputId": "dba7f5a1-621d-4046-bfbb-ae0330744404"
      },
      "execution_count": 31,
      "outputs": [
        {
          "output_type": "stream",
          "name": "stdout",
          "text": [
            "3\n"
          ]
        }
      ]
    },
    {
      "cell_type": "code",
      "source": [
        "# 8.1 Write a program to handle division by zero using a try-except block.\n",
        "try:\n",
        "  a=int(input(\"enter numerator : \"))\n",
        "  b=int(input(\"enter denominator : \"))\n",
        "  result=a/b\n",
        "  print(result)\n",
        "except:\n",
        "  print(\"NOT VALID\")\n"
      ],
      "metadata": {
        "colab": {
          "base_uri": "https://localhost:8080/"
        },
        "id": "xDpMfIY_ONb3",
        "outputId": "996787d6-4a41-4d54-f576-86f00dd0a62b"
      },
      "execution_count": 3,
      "outputs": [
        {
          "output_type": "stream",
          "name": "stdout",
          "text": [
            "enter numerator : 5\n",
            "enter denominator : 0\n",
            "NOT VALID\n"
          ]
        }
      ]
    },
    {
      "cell_type": "code",
      "source": [
        "# 8.2 Write a program to handle invalid input (e.g., when the user enters a string instead of a number).\n",
        "try:\n",
        "  a=int(input(\"entr val : \"))\n",
        "  print(\"VALID\")\n",
        "except:\n",
        "  print(\"INVALID\")\n"
      ],
      "metadata": {
        "colab": {
          "base_uri": "https://localhost:8080/"
        },
        "id": "sIO_tG6-PB3J",
        "outputId": "33b3ec9f-5d70-4565-ca15-fbfa6bb54a5e"
      },
      "execution_count": 6,
      "outputs": [
        {
          "output_type": "stream",
          "name": "stdout",
          "text": [
            "entr val : 5\n",
            "VALID\n"
          ]
        }
      ]
    },
    {
      "cell_type": "code",
      "source": [
        "# 8.3 Write a program to demonstrate the use of finally in exception handling.\n",
        "def divide(a,b):\n",
        "  try:\n",
        "    print(a/b)\n",
        "  except:\n",
        "    print(\"NOT VALID\")\n",
        "  finally:\n",
        "    print(\"code succesfully executed\")\n",
        "divide(10,2)\n",
        "divide(10,0)"
      ],
      "metadata": {
        "colab": {
          "base_uri": "https://localhost:8080/"
        },
        "id": "SBVK2wT3RTHl",
        "outputId": "ec65bded-c0e8-46c2-a572-2c97348d7752"
      },
      "execution_count": 2,
      "outputs": [
        {
          "output_type": "stream",
          "name": "stdout",
          "text": [
            "NOT VALID\n",
            "code succesfully executed\n"
          ]
        }
      ]
    },
    {
      "cell_type": "code",
      "source": [
        "#9.1 Write a program to generate 5 random numbers between 1 and 100 and print them.\n",
        "import random as r\n",
        "for i in range(1,6):\n",
        "  print(r.randint(1,100))"
      ],
      "metadata": {
        "colab": {
          "base_uri": "https://localhost:8080/"
        },
        "id": "8guaC5WN5XtE",
        "outputId": "e11b101c-2061-49f4-8034-b8f457a0f3d4"
      },
      "execution_count": 12,
      "outputs": [
        {
          "output_type": "stream",
          "name": "stdout",
          "text": [
            "39\n",
            "85\n",
            "96\n",
            "86\n",
            "60\n"
          ]
        }
      ]
    },
    {
      "cell_type": "code",
      "source": [
        "#9.2 Write a program to generate a random number and check if it is prime.\n",
        "import random as r\n",
        "a=r.randint(1,1000)\n",
        "print(a)\n",
        "import sympy as s\n",
        "s.isprime(a)\n"
      ],
      "metadata": {
        "colab": {
          "base_uri": "https://localhost:8080/"
        },
        "id": "zWz3QqGG5mvz",
        "outputId": "b0422d19-6da0-4a70-d842-6a259e501dbd"
      },
      "execution_count": 20,
      "outputs": [
        {
          "output_type": "stream",
          "name": "stdout",
          "text": [
            "699\n"
          ]
        },
        {
          "output_type": "execute_result",
          "data": {
            "text/plain": [
              "False"
            ]
          },
          "metadata": {},
          "execution_count": 20
        }
      ]
    },
    {
      "cell_type": "code",
      "source": [
        "#9.3 Write a program to simulate rolling a six-sided die.\n",
        "import random as r\n",
        "roll=r.randint(1,6)\n",
        "print(roll)"
      ],
      "metadata": {
        "colab": {
          "base_uri": "https://localhost:8080/"
        },
        "id": "65TNWqYL5pVo",
        "outputId": "8e12b4ed-f2c3-46a7-b7bf-e34135b1805a"
      },
      "execution_count": 22,
      "outputs": [
        {
          "output_type": "stream",
          "name": "stdout",
          "text": [
            "2\n"
          ]
        }
      ]
    },
    {
      "cell_type": "code",
      "source": [
        "#9.4 Write a program to shuffle a list of numbers.\n",
        "import random as r\n",
        "list=[1,2,3,4,5,6]\n",
        "print(list)\n",
        "r.shuffle(list)\n",
        "print(list)\n",
        "\n"
      ],
      "metadata": {
        "colab": {
          "base_uri": "https://localhost:8080/"
        },
        "id": "9SU7usFJ5s9c",
        "outputId": "d68169f5-b69b-4307-a512-fcfae21ecb1b"
      },
      "execution_count": 26,
      "outputs": [
        {
          "output_type": "stream",
          "name": "stdout",
          "text": [
            "[1, 2, 3, 4, 5, 6]\n",
            "[4, 2, 1, 3, 5, 6]\n"
          ]
        }
      ]
    },
    {
      "cell_type": "code",
      "source": [
        "#9.5 Write a program to randomly select an item from a list.\n",
        "import random as r\n",
        "list=[1,2,3,4,5,6]\n",
        "a=r.choice(list)\n",
        "print(a)"
      ],
      "metadata": {
        "colab": {
          "base_uri": "https://localhost:8080/"
        },
        "id": "rob7xVrm5xa4",
        "outputId": "8ff91d77-7621-493b-e74e-f61441363e80"
      },
      "execution_count": 28,
      "outputs": [
        {
          "output_type": "stream",
          "name": "stdout",
          "text": [
            "2\n"
          ]
        }
      ]
    },
    {
      "cell_type": "code",
      "source": [
        "#9.6 Write a program to generate a random password of given length.\n",
        "import random as r\n",
        "len=int(input(\"enter len : \"))\n",
        "characters=\"abcdefghijklmnopqrstuvwxyz\"\n",
        "password=\"\".join(r.choice(characters) for i in range(len))\n",
        "print(password)"
      ],
      "metadata": {
        "colab": {
          "base_uri": "https://localhost:8080/"
        },
        "id": "PSqsQuib559_",
        "outputId": "33382bdf-d513-4a7b-bc2e-b03b890ed288"
      },
      "execution_count": 31,
      "outputs": [
        {
          "output_type": "stream",
          "name": "stdout",
          "text": [
            "enter len : 5\n",
            "myuls\n"
          ]
        }
      ]
    },
    {
      "cell_type": "code",
      "source": [
        "#9.7 Write a program to pick a random card from a standard deck of 52 cards.\n",
        "import random as r\n",
        "suits = [\"Hearts\", \"Diamonds\", \"Clubs\", \"Spades\"]\n",
        "ranks = [\"2\", \"3\", \"4\", \"5\", \"6\", \"7\", \"8\", \"9\", \"10\", \"Jack\", \"Queen\", \"King\", \"Ace\"]\n",
        "\n",
        "rsuit=r.choice(suits)\n",
        "rranks=r.choice(ranks)\n",
        "card=rsuit+ \" \"+rranks\n",
        "print(card)"
      ],
      "metadata": {
        "colab": {
          "base_uri": "https://localhost:8080/"
        },
        "id": "nyl2FP7e589y",
        "outputId": "f547ba6e-b616-4f48-ecc8-81c53e288177"
      },
      "execution_count": 33,
      "outputs": [
        {
          "output_type": "stream",
          "name": "stdout",
          "text": [
            "Clubs Jack\n"
          ]
        }
      ]
    },
    {
      "cell_type": "code",
      "source": [
        "#10.1 Write a program to accept two numbers as command-line arguments, add them, and print the result.\n",
        "# Python program to demonstrate\n",
        "# command line arguments\n",
        "\n",
        "\n",
        "import argparse\n",
        "\n",
        "# Initialize parser\n",
        "parser = argparse.ArgumentParser()\n",
        "# Add arguments for two numbers\n",
        "parser.add_argument(\"num1\", type=int, help=\"First number\")\n",
        "parser.add_argument(\"num2\", type=int, help=\"Second number\")\n",
        "\n",
        "# Parse the arguments\n",
        "args = parser.parse_args()\n",
        "\n",
        "# Calculate and print the sum\n",
        "result = args.num1 + args.num2\n",
        "print(\"Sum:\", result)"
      ],
      "metadata": {
        "id": "3KCR8MMSGmWm"
      },
      "execution_count": null,
      "outputs": []
    },
    {
      "cell_type": "code",
      "source": [
        "# 10.2 Write a program to accept a string as a command-line argument and print its length.\n",
        "import argparse\n",
        "\n",
        "# Initialize parser\n",
        "parser = argparse.ArgumentParser()\n",
        "\n",
        "# Add argument for the string\n",
        "parser.add_argument(\"string\", type=str, help=\"Input string\")\n",
        "\n",
        "# Parse the arguments\n",
        "args = parser.parse_args()\n",
        "\n",
        "# Get the string and print its length\n",
        "input_string = args.string\n",
        "string_length = len(input_string)\n",
        "print(\"Length of the string:\", string_length)"
      ],
      "metadata": {
        "id": "IKeibQJlG7cB"
      },
      "execution_count": null,
      "outputs": []
    },
    {
      "cell_type": "code",
      "source": [
        "# 11.1 Write a program to use the math library to calculate the square root of a given number.\n",
        "import math as m\n",
        "a=int(input(\"entr a val : \"))\n",
        "m.sqrt(a)"
      ],
      "metadata": {
        "colab": {
          "base_uri": "https://localhost:8080/"
        },
        "id": "Oep2q9bwjhw3",
        "outputId": "48f1d869-cd0a-4d11-b822-d0e96a592dfd"
      },
      "execution_count": 34,
      "outputs": [
        {
          "name": "stdout",
          "output_type": "stream",
          "text": [
            "entr a val : 15\n"
          ]
        },
        {
          "output_type": "execute_result",
          "data": {
            "text/plain": [
              "3.872983346207417"
            ]
          },
          "metadata": {},
          "execution_count": 34
        }
      ]
    },
    {
      "cell_type": "code",
      "source": [
        "#  11.2 Write a program to use the datetime library to print the current date and time.\n",
        "import datetime as dt\n",
        "print(dt.date.today())\n",
        "print(dt.datetime.now().time())\n",
        "# google backend is showing coordinated universal time"
      ],
      "metadata": {
        "colab": {
          "base_uri": "https://localhost:8080/"
        },
        "id": "xfFCC9IQ2qbu",
        "outputId": "0214f1f9-b29c-40a2-e12e-5d56b5047193"
      },
      "execution_count": 1,
      "outputs": [
        {
          "output_type": "stream",
          "name": "stdout",
          "text": [
            "2025-01-12\n",
            "18:59:55.201244\n"
          ]
        }
      ]
    },
    {
      "cell_type": "code",
      "source": [
        "# 11.3 Write a program to use the os library to list all files in the current directory\n",
        "import os as o\n",
        "currentdr=o.getcwd()\n",
        "allfiles=o.listdir(currentdr)\n",
        "print(allfiles)\n",
        "\n"
      ],
      "metadata": {
        "colab": {
          "base_uri": "https://localhost:8080/"
        },
        "id": "q_perlyD4Ko-",
        "outputId": "5659efed-32ff-43d6-ae4c-4c814ef10f0e"
      },
      "execution_count": 3,
      "outputs": [
        {
          "output_type": "stream",
          "name": "stdout",
          "text": [
            "['.config', 'sample_data']\n"
          ]
        }
      ]
    }
  ]
}