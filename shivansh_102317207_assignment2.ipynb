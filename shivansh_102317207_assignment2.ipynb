{
  "nbformat": 4,
  "nbformat_minor": 0,
  "metadata": {
    "colab": {
      "provenance": [],
      "authorship_tag": "ABX9TyMxE5pl5q9tJcp8j4Y3/PaF",
      "include_colab_link": true
    },
    "kernelspec": {
      "name": "python3",
      "display_name": "Python 3"
    },
    "language_info": {
      "name": "python"
    }
  },
  "cells": [
    {
      "cell_type": "markdown",
      "metadata": {
        "id": "view-in-github",
        "colab_type": "text"
      },
      "source": [
        "<a href=\"https://colab.research.google.com/github/shivanshgarg22/shivansh_102317207-Optimus_prime/blob/main/shivansh_102317207_assignment2.ipynb\" target=\"_parent\"><img src=\"https://colab.research.google.com/assets/colab-badge.svg\" alt=\"Open In Colab\"/></a>"
      ]
    },
    {
      "cell_type": "markdown",
      "source": [
        "Q1->"
      ],
      "metadata": {
        "id": "tWpBIyjbhKgj"
      }
    },
    {
      "cell_type": "code",
      "execution_count": 1,
      "metadata": {
        "id": "rw0HhC13TSCR",
        "colab": {
          "base_uri": "https://localhost:8080/"
        },
        "outputId": "b6c5ef38-2db0-4a36-e0e3-128796d35db9"
      },
      "outputs": [
        {
          "output_type": "stream",
          "name": "stdout",
          "text": [
            "[10, 20, 30, 40, 50, 60, 70, 80]\n"
          ]
        }
      ],
      "source": [
        "#Create a List L that is defined as= [10, 20, 30, 40, 50, 60, 70, 80].\n",
        "l=[10,20,30,40,50,60,70,80]\n",
        "print(l)"
      ]
    },
    {
      "cell_type": "code",
      "source": [
        "#WAP to add 200 and 300 to L.\n",
        "l.append(200)\n",
        "l.append(300)\n",
        "print(l)"
      ],
      "metadata": {
        "colab": {
          "base_uri": "https://localhost:8080/"
        },
        "id": "vIe5zAw2gMPh",
        "outputId": "f9984771-3770-4271-8664-1ee975fbed1a"
      },
      "execution_count": 2,
      "outputs": [
        {
          "output_type": "stream",
          "name": "stdout",
          "text": [
            "[10, 20, 30, 40, 50, 60, 70, 80, 200, 300]\n"
          ]
        }
      ]
    },
    {
      "cell_type": "code",
      "source": [
        "#WAP to remove 10 and 30 from L.\n",
        "l.remove(10)\n",
        "l.remove(30)\n",
        "print(l)"
      ],
      "metadata": {
        "colab": {
          "base_uri": "https://localhost:8080/"
        },
        "id": "RGSw0ndAgU1W",
        "outputId": "450d921d-d5b7-4b7c-f0f9-5b8f13ae2a49"
      },
      "execution_count": 3,
      "outputs": [
        {
          "output_type": "stream",
          "name": "stdout",
          "text": [
            "[20, 40, 50, 60, 70, 80, 200, 300]\n"
          ]
        }
      ]
    },
    {
      "cell_type": "code",
      "source": [
        "#WAP to sort L in ascending order.\n",
        "l.sort()\n",
        "print(l)"
      ],
      "metadata": {
        "colab": {
          "base_uri": "https://localhost:8080/"
        },
        "id": "S0LZi1B4gpMK",
        "outputId": "06066423-d01c-4670-b027-268267d0ba04"
      },
      "execution_count": 4,
      "outputs": [
        {
          "output_type": "stream",
          "name": "stdout",
          "text": [
            "[20, 40, 50, 60, 70, 80, 200, 300]\n"
          ]
        }
      ]
    },
    {
      "cell_type": "code",
      "source": [
        "#WAP to sort L in descending order.\n",
        "l.sort(reverse=True)\n",
        "print(l)"
      ],
      "metadata": {
        "colab": {
          "base_uri": "https://localhost:8080/"
        },
        "id": "C-mX8aHMgsHM",
        "outputId": "099bff32-28b0-4e86-f47c-4569cea7dde9"
      },
      "execution_count": 5,
      "outputs": [
        {
          "output_type": "stream",
          "name": "stdout",
          "text": [
            "[300, 200, 80, 70, 60, 50, 40, 20]\n"
          ]
        }
      ]
    },
    {
      "cell_type": "markdown",
      "source": [
        "Q2->"
      ],
      "metadata": {
        "id": "rr-07F_VhG9Z"
      }
    },
    {
      "cell_type": "code",
      "source": [
        "#Create a tuple of marks scored as scores = (45, 89.5, 76, 45.4, 89, 92, 58, 45)\n",
        "tuple=(45, 89.5, 76, 45.4, 89, 92, 58, 45)\n",
        "print(tuple)"
      ],
      "metadata": {
        "colab": {
          "base_uri": "https://localhost:8080/"
        },
        "id": "wt7u-UeBg4q3",
        "outputId": "61d9591b-8fad-465b-e869-43a0543aaf49"
      },
      "execution_count": 7,
      "outputs": [
        {
          "output_type": "stream",
          "name": "stdout",
          "text": [
            "(45, 89.5, 76, 45.4, 89, 92, 58, 45)\n"
          ]
        }
      ]
    },
    {
      "cell_type": "code",
      "source": [
        "#Identify the highest score and its index in the tuple.\n",
        "a=max(tuple)\n",
        "print(a)\n",
        "print(\"INDEX : \",tuple.index(a))"
      ],
      "metadata": {
        "colab": {
          "base_uri": "https://localhost:8080/"
        },
        "id": "-wsz7bZFhFx_",
        "outputId": "588cbb8a-13f5-47b9-c3d4-3f025e1a8d4d"
      },
      "execution_count": 9,
      "outputs": [
        {
          "output_type": "stream",
          "name": "stdout",
          "text": [
            "92\n",
            "INDEX :  5\n"
          ]
        }
      ]
    },
    {
      "cell_type": "code",
      "source": [
        "#Find the lowest score and count how many times it appears.\n",
        "a=min(tuple)\n",
        "print(a)\n",
        "count=0\n",
        "for i in range(len(tuple)):\n",
        "  if(tuple[i]==a):\n",
        "    count=count+1\n",
        "print(count)"
      ],
      "metadata": {
        "colab": {
          "base_uri": "https://localhost:8080/"
        },
        "id": "ZUuv4Mj5hkGO",
        "outputId": "0c1a99e3-17e8-4363-e317-95d091710fb2"
      },
      "execution_count": 11,
      "outputs": [
        {
          "output_type": "stream",
          "name": "stdout",
          "text": [
            "45\n",
            "2\n"
          ]
        }
      ]
    },
    {
      "cell_type": "code",
      "source": [
        "#Reverse the tuple and return it as a list.\n",
        "print(tuple[::-1])\n",
        "list=list(tuple[::-1])\n",
        "print(list)"
      ],
      "metadata": {
        "colab": {
          "base_uri": "https://localhost:8080/"
        },
        "id": "8cxChyfEiDs7",
        "outputId": "19d3e943-eb14-4010-a07d-5013678f3f96"
      },
      "execution_count": 16,
      "outputs": [
        {
          "output_type": "stream",
          "name": "stdout",
          "text": [
            "(45, 58, 92, 89, 45.4, 76, 89.5, 45)\n",
            "[45, 58, 92, 89, 45.4, 76, 89.5, 45]\n"
          ]
        }
      ]
    },
    {
      "cell_type": "code",
      "source": [
        "#Check if a specific score ‘76’ (input) is present in the tuple and print its first occurrence index, or a message saying it’s not present.\n",
        "chk=float(input(\"ENTER SCORE : \"))\n",
        "if(chk in tuple):\n",
        "  print(tuple.index(chk))\n",
        "else:\n",
        "  print(\"NOT PRESENT : \")\n",
        ""
      ],
      "metadata": {
        "colab": {
          "base_uri": "https://localhost:8080/"
        },
        "id": "cRH0vV4UjwLE",
        "outputId": "831299c5-7558-4a88-b0b2-fce69e03ca4f"
      },
      "execution_count": 34,
      "outputs": [
        {
          "output_type": "stream",
          "name": "stdout",
          "text": [
            "ENTER SCORE : 76\n",
            "2\n"
          ]
        }
      ]
    },
    {
      "cell_type": "markdown",
      "source": [
        "Q3->"
      ],
      "metadata": {
        "id": "G3GReg7zkdoJ"
      }
    },
    {
      "cell_type": "code",
      "source": [
        "#WAP to create a list of 100 random numbers between 100 and 900.\n",
        "import random as r\n",
        "a=r.randint(100,900)\n",
        "listt=[]\n",
        "for i in range(100):\n",
        "  listt.append(r.randint(100,900))\n",
        "print(listt)"
      ],
      "metadata": {
        "colab": {
          "base_uri": "https://localhost:8080/"
        },
        "id": "bjg1-MU7kfdL",
        "outputId": "1d000629-65bd-4d48-b55a-e0de43ec8b0d"
      },
      "execution_count": 22,
      "outputs": [
        {
          "output_type": "stream",
          "name": "stdout",
          "text": [
            "[278, 861, 581, 880, 658, 756, 129, 593, 857, 185, 160, 643, 377, 856, 265, 704, 556, 136, 401, 640, 600, 696, 781, 689, 437, 155, 187, 495, 857, 264, 794, 829, 431, 794, 554, 356, 564, 734, 309, 458, 343, 133, 117, 672, 364, 624, 503, 207, 400, 791, 826, 826, 765, 813, 411, 497, 524, 756, 432, 130, 479, 393, 687, 111, 699, 379, 122, 656, 537, 269, 732, 112, 320, 852, 668, 510, 339, 120, 753, 146, 659, 549, 449, 503, 227, 431, 443, 416, 497, 100, 436, 567, 570, 883, 386, 521, 737, 282, 397, 477]\n"
          ]
        }
      ]
    },
    {
      "cell_type": "code",
      "source": [
        "#All odd numbers , All even numbers\n",
        "print(\"EVEN : \")\n",
        "for i in listt:\n",
        "  if(i%2==0):\n",
        "    print(i)\n",
        "\n",
        "print(\"\\nODD : \")\n",
        "for j in listt:\n",
        "  if(j%2!=0):\n",
        "    print(j)\n"
      ],
      "metadata": {
        "colab": {
          "base_uri": "https://localhost:8080/"
        },
        "id": "WMfifj01lA_W",
        "outputId": "9c1fc1c8-bc10-4e1d-f1fa-fe1ca30b8a1d"
      },
      "execution_count": 30,
      "outputs": [
        {
          "output_type": "stream",
          "name": "stdout",
          "text": [
            "EVEN : \n",
            "278\n",
            "880\n",
            "658\n",
            "756\n",
            "160\n",
            "856\n",
            "704\n",
            "556\n",
            "136\n",
            "640\n",
            "600\n",
            "696\n",
            "264\n",
            "794\n",
            "794\n",
            "554\n",
            "356\n",
            "564\n",
            "734\n",
            "458\n",
            "672\n",
            "364\n",
            "624\n",
            "400\n",
            "826\n",
            "826\n",
            "524\n",
            "756\n",
            "432\n",
            "130\n",
            "122\n",
            "656\n",
            "732\n",
            "112\n",
            "320\n",
            "852\n",
            "668\n",
            "510\n",
            "120\n",
            "146\n",
            "416\n",
            "100\n",
            "436\n",
            "570\n",
            "386\n",
            "282\n",
            "\n",
            "ODD : \n",
            "861\n",
            "581\n",
            "129\n",
            "593\n",
            "857\n",
            "185\n",
            "643\n",
            "377\n",
            "265\n",
            "401\n",
            "781\n",
            "689\n",
            "437\n",
            "155\n",
            "187\n",
            "495\n",
            "857\n",
            "829\n",
            "431\n",
            "309\n",
            "343\n",
            "133\n",
            "117\n",
            "503\n",
            "207\n",
            "791\n",
            "765\n",
            "813\n",
            "411\n",
            "497\n",
            "479\n",
            "393\n",
            "687\n",
            "111\n",
            "699\n",
            "379\n",
            "537\n",
            "269\n",
            "339\n",
            "753\n",
            "659\n",
            "549\n",
            "449\n",
            "503\n",
            "227\n",
            "431\n",
            "443\n",
            "497\n",
            "567\n",
            "883\n",
            "521\n",
            "737\n",
            "397\n",
            "477\n"
          ]
        }
      ]
    },
    {
      "cell_type": "code",
      "source": [
        "#All prime numbers\n",
        "import sympy as s\n",
        "print(\"PRIME : \")\n",
        "for k in listt:\n",
        "  if(s.isprime(k)):\n",
        "    print(k)"
      ],
      "metadata": {
        "colab": {
          "base_uri": "https://localhost:8080/"
        },
        "id": "-7SIW-eymIj7",
        "outputId": "955a0cff-ded5-4c2d-9d6f-026f8f9a445e"
      },
      "execution_count": 31,
      "outputs": [
        {
          "output_type": "stream",
          "name": "stdout",
          "text": [
            "PRIME : \n",
            "593\n",
            "857\n",
            "643\n",
            "401\n",
            "857\n",
            "829\n",
            "431\n",
            "503\n",
            "479\n",
            "379\n",
            "269\n",
            "659\n",
            "449\n",
            "503\n",
            "227\n",
            "431\n",
            "443\n",
            "883\n",
            "521\n",
            "397\n"
          ]
        }
      ]
    },
    {
      "cell_type": "markdown",
      "source": [
        "Q4->"
      ],
      "metadata": {
        "id": "D_HPha6enmzF"
      }
    },
    {
      "cell_type": "code",
      "source": [
        "#Find the unique scores achieved by both teams (union of sets).\n",
        "A=set([34, 56, 78, 90])\n",
        "B=set([78, 45, 90, 23])\n",
        "print(A.union(B))"
      ],
      "metadata": {
        "colab": {
          "base_uri": "https://localhost:8080/"
        },
        "id": "34rPmsAhnmf7",
        "outputId": "c5102e7a-105b-4d94-9203-0e6d5fffaf9a"
      },
      "execution_count": 36,
      "outputs": [
        {
          "output_type": "stream",
          "name": "stdout",
          "text": [
            "{34, 45, 78, 23, 56, 90}\n"
          ]
        }
      ]
    },
    {
      "cell_type": "code",
      "source": [
        "#Identify the scores that are common to both teams\n",
        "print(A.intersection(B))"
      ],
      "metadata": {
        "colab": {
          "base_uri": "https://localhost:8080/"
        },
        "id": "Ub6YbqRNnmET",
        "outputId": "f21b1537-6ec1-4a21-89c8-a530dcdf1b95"
      },
      "execution_count": 37,
      "outputs": [
        {
          "output_type": "stream",
          "name": "stdout",
          "text": [
            "{90, 78}\n"
          ]
        }
      ]
    },
    {
      "cell_type": "code",
      "source": [
        "#Find the scores that are exclusive to each team\n",
        "print(A.symmetric_difference(B))\n",
        "print(B.symmetric_difference(A))"
      ],
      "metadata": {
        "colab": {
          "base_uri": "https://localhost:8080/"
        },
        "id": "uJVysDWpnX5U",
        "outputId": "b782abd5-774c-4bb4-d376-17b3d01eb5ee"
      },
      "execution_count": 39,
      "outputs": [
        {
          "output_type": "stream",
          "name": "stdout",
          "text": [
            "{34, 45, 23, 56}\n",
            "{34, 45, 23, 56}\n"
          ]
        }
      ]
    },
    {
      "cell_type": "code",
      "source": [
        "#Check if the scores of team A are a subset of team B, and if team B's scores are a superset of team A.\n",
        "A = {34, 56, 78, 90}\n",
        "B = {78, 45, 90, 23}\n",
        "is_subset = A.issubset(B)\n",
        "print(f\"Is A a subset of B? {is_subset}\")\n",
        "is_superset = B.issuperset(A)\n",
        "print(f\"Is B a superset of A? {is_superset}\")"
      ],
      "metadata": {
        "colab": {
          "base_uri": "https://localhost:8080/"
        },
        "id": "2SkbIi1WrDfM",
        "outputId": "ed711b75-f935-4e97-f75f-4bbfe503ac1f"
      },
      "execution_count": 43,
      "outputs": [
        {
          "output_type": "stream",
          "name": "stdout",
          "text": [
            "Is A a subset of B? False\n",
            "Is B a superset of A? False\n"
          ]
        }
      ]
    },
    {
      "cell_type": "code",
      "source": [
        "#Remove a specific score 𝑋 (input) from set A if it exists. If not, print a message saying it is not present.\n",
        "x=int(input(\"ENTER SCORE : \"))\n",
        "if(x in A):\n",
        "  A.remove(x)\n",
        "  print(A)\n",
        "else:\n",
        "  print(\"NOT PRESENT : \")\n"
      ],
      "metadata": {
        "colab": {
          "base_uri": "https://localhost:8080/"
        },
        "id": "_9fCgyWdupiL",
        "outputId": "27681850-7e4a-4dbb-ba98-969890ad7bf5"
      },
      "execution_count": 42,
      "outputs": [
        {
          "output_type": "stream",
          "name": "stdout",
          "text": [
            "ENTER SCORE : 34\n",
            "{56, 90, 78}\n"
          ]
        }
      ]
    },
    {
      "cell_type": "markdown",
      "source": [
        "Q5->"
      ],
      "metadata": {
        "id": "miwRcee3y18_"
      }
    },
    {
      "cell_type": "code",
      "source": [
        "#Write a program to rename a key city to a location in the following dictionary.\n",
        "sample_dict={\"name\":\"kelly\",\"age\":25,\"salary\":8000,\"city\":\"new york\"}\n",
        "print(sample_dict)\n",
        "sample_dict[\"location\"]=sample_dict.pop(\"city\")\n",
        "print(sample_dict)"
      ],
      "metadata": {
        "colab": {
          "base_uri": "https://localhost:8080/"
        },
        "id": "OUM51t3ay3up",
        "outputId": "4d4dcdc6-4781-4d79-d91d-1be781be5194"
      },
      "execution_count": 46,
      "outputs": [
        {
          "output_type": "stream",
          "name": "stdout",
          "text": [
            "{'name': 'kelly', 'age': 25, 'salary': 8000, 'city': 'new york'}\n",
            "{'name': 'kelly', 'age': 25, 'salary': 8000, 'location': 'new york'}\n"
          ]
        }
      ]
    }
  ]
}