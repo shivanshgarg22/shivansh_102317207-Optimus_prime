{
  "nbformat": 4,
  "nbformat_minor": 0,
  "metadata": {
    "colab": {
      "provenance": [],
      "authorship_tag": "ABX9TyOy4xUmI0gDkx+hpTTiGQNa",
      "include_colab_link": true
    },
    "kernelspec": {
      "name": "python3",
      "display_name": "Python 3"
    },
    "language_info": {
      "name": "python"
    }
  },
  "cells": [
    {
      "cell_type": "markdown",
      "metadata": {
        "id": "view-in-github",
        "colab_type": "text"
      },
      "source": [
        "<a href=\"https://colab.research.google.com/github/shivanshgarg22/shivansh_102317207-Optimus_prime/blob/main/Shivansh_102317207_assignment_6.ipynb\" target=\"_parent\"><img src=\"https://colab.research.google.com/assets/colab-badge.svg\" alt=\"Open In Colab\"/></a>"
      ]
    },
    {
      "cell_type": "code",
      "execution_count": null,
      "metadata": {
        "id": "hUZftDOWWNBm"
      },
      "outputs": [],
      "source": [
        "# Q1\n",
        "import numpy as np\n",
        "import matplotlib.pyplot as plt\n",
        "\n",
        "M = float(input(\"Enter a value for M: \"))\n",
        "\n",
        "x = np.linspace(-10, 10, 100)\n",
        "y1 = M * x**2\n",
        "y2 = M * np.sin(x)\n",
        "\n",
        "plt.plot(x, y1, color=\"blue\", linestyle=\"-\", label=\"y = M * x^2\")\n",
        "plt.plot(x, y2, color=\"red\", linestyle=\"--\", label=\"y = M * sin(x)\")\n",
        "plt.title(\"Mathematical Functions\")\n",
        "plt.xlabel(\"x\")\n",
        "plt.ylabel(\"y\")\n",
        "plt.legend()\n",
        "plt.grid(True)\n",
        "plt.show()"
      ]
    },
    {
      "cell_type": "code",
      "source": [
        "# Q2\n",
        "import pandas as pd\n",
        "import seaborn as sns\n",
        "\n",
        "subjects = [\"Math\", \"Physics\", \"Chemistry\", \"Biology\", \"Computer\"]\n",
        "scores = [85, 78, 92, 74, 88]\n",
        "\n",
        "data = pd.DataFrame({\"Subjects\": subjects, \"Scores\": scores})\n",
        "\n",
        "plt.figure(figsize=(10, 6))\n",
        "bar_plot = sns.barplot(x=\"Subjects\", y=\"Scores\", data=data, palette=\"viridis\")\n",
        "\n",
        "for i in range(len(scores)):\n",
        "    bar_plot.text(i, scores[i] + 1, str(scores[i]), ha=\"center\")\n",
        "\n",
        "plt.title(\"Scores in Different Subjects\")\n",
        "plt.xlabel(\"Subjects\")\n",
        "plt.ylabel(\"Scores\")\n",
        "plt.grid(True, linestyle=\"--\", alpha=0.7)\n",
        "plt.show()"
      ],
      "metadata": {
        "id": "9sfZpdstWf2y"
      },
      "execution_count": null,
      "outputs": []
    },
    {
      "cell_type": "code",
      "source": [
        "# Q3\n",
        "roll_number = 102317204\n",
        "np.random.seed(roll_number)\n",
        "data = np.random.randn(50)\n",
        "\n",
        "plt.figure(figsize=(12, 8))\n",
        "\n",
        "plt.subplot(2, 2, 1)\n",
        "plt.plot(np.cumsum(data), color=\"green\")\n",
        "plt.title(\"Cumulative Sum\")\n",
        "plt.xlabel(\"Index\")\n",
        "plt.ylabel(\"Cumulative Sum\")\n",
        "plt.grid(True)\n",
        "\n",
        "plt.subplot(2, 2, 2)\n",
        "plt.scatter(range(len(data)), data, color=\"purple\")\n",
        "plt.title(\"Random Noise\")\n",
        "plt.xlabel(\"Index\")\n",
        "plt.ylabel(\"Value\")\n",
        "plt.grid(True)\n",
        "\n",
        "plt.tight_layout()\n",
        "plt.show()"
      ],
      "metadata": {
        "id": "xxsGRn1JWoyh"
      },
      "execution_count": null,
      "outputs": []
    },
    {
      "cell_type": "code",
      "source": [
        "# Q4\n",
        "import seaborn as sns\n",
        "\n",
        "data = pd.read_csv(\n",
        "    \"https://raw.githubusercontent.com/AnjulaMehto/MCA/main/company_sales_data.csv\"\n",
        ")\n",
        "\n",
        "plt.figure(figsize=(10, 6))\n",
        "plt.plot(\n",
        "    data[\"month_number\"], data[\"total_profit\"], color=\"blue\", marker=\"o\", linestyle=\"-\"\n",
        ")\n",
        "plt.title(\"Total Profit per Month\")\n",
        "plt.xlabel(\"Month\")\n",
        "plt.ylabel(\"Total Profit\")\n",
        "plt.grid(True)\n",
        "plt.show()\n",
        "\n",
        "plt.figure(figsize=(10, 6))\n",
        "for column in data.columns[1:-1]:\n",
        "    plt.plot(data[\"month_number\"], data[column], label=column)\n",
        "\n",
        "plt.title(\"Product Sales Data\")\n",
        "plt.xlabel(\"Month\")\n",
        "plt.ylabel(\"Sales\")\n",
        "plt.legend()\n",
        "plt.grid(True)\n",
        "plt.show()\n",
        "\n",
        "data.plot(kind=\"bar\", figsize=(15, 8))\n",
        "plt.title(\"Company Sales Data\")\n",
        "plt.xlabel(\"Month\")\n",
        "plt.ylabel(\"Values\")\n",
        "plt.grid(True, linestyle=\"--\", alpha=0.7)\n",
        "plt.show()\n"
      ],
      "metadata": {
        "id": "i9cKyLntWptq"
      },
      "execution_count": null,
      "outputs": []
    }
  ]
}