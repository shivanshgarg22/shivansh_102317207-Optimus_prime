{
  "nbformat": 4,
  "nbformat_minor": 0,
  "metadata": {
    "colab": {
      "provenance": [],
      "authorship_tag": "ABX9TyNOvyYg0eiYA5Oq3nqB/iyw",
      "include_colab_link": true
    },
    "kernelspec": {
      "name": "python3",
      "display_name": "Python 3"
    },
    "language_info": {
      "name": "python"
    }
  },
  "cells": [
    {
      "cell_type": "markdown",
      "metadata": {
        "id": "view-in-github",
        "colab_type": "text"
      },
      "source": [
        "<a href=\"https://colab.research.google.com/github/shivanshgarg22/shivansh_102317207-Optimus_prime/blob/main/Shivansh_102317207_assignment_4.ipynb\" target=\"_parent\"><img src=\"https://colab.research.google.com/assets/colab-badge.svg\" alt=\"Open In Colab\"/></a>"
      ]
    },
    {
      "cell_type": "markdown",
      "source": [
        "Q1->"
      ],
      "metadata": {
        "id": "nAmW3tfqD_sP"
      }
    },
    {
      "cell_type": "code",
      "execution_count": 1,
      "metadata": {
        "colab": {
          "base_uri": "https://localhost:8080/"
        },
        "id": "msLddRYrD6ky",
        "outputId": "ef1178ed-2473-483b-edeb-2f356226002d"
      },
      "outputs": [
        {
          "output_type": "stream",
          "name": "stdout",
          "text": [
            "[ 8  8  9 12]\n",
            "[15 15 20 35]\n",
            "[1.         1.         1.33333333 2.33333333]\n"
          ]
        }
      ],
      "source": [
        "import numpy as np\n",
        "a=np.array([3,3,4,7])\n",
        "print(a+5)\n",
        "print(a*5)\n",
        "print(a/3)"
      ]
    },
    {
      "cell_type": "markdown",
      "source": [
        "Q2->"
      ],
      "metadata": {
        "id": "pzupIME2EP-S"
      }
    },
    {
      "cell_type": "code",
      "source": [
        "import numpy as np\n",
        "arr = np.array([1, 2, 3, 6, 4, 5])\n",
        "print(arr[::-1])\n",
        "\n",
        "x = np.array([1, 2, 3, 4, 5, 1, 2, 1, 1, 1])\n",
        "values, counts = np.unique(x, return_counts=True)\n",
        "max_count = counts.max()\n",
        "mode_values = values[counts == max_count]\n",
        "\n",
        "# Most frequent value and their indices\n",
        "mode_x = mode_values[0]\n",
        "indices_x = np.where(x == mode_x)[0]\n",
        "print(\"Most frequent values =\", mode_x)\n",
        "print(\"Their values =\", indices_x)\n",
        "\n",
        "y = np.array([1, 1, 1, 2, 3, 4, 2, 4, 3, 3])\n",
        "values, counts = np.unique(y, return_counts=True)\n",
        "max_count = counts.max()\n",
        "mode_values = values[counts == max_count]\n",
        "\n",
        "# Most frequent values and their indices\n",
        "modes_indices_y = [(val, np.where(y == val)[0]) for val in mode_values]\n",
        "print(modes_indices_y)\n",
        "print(mode_values)"
      ],
      "metadata": {
        "colab": {
          "base_uri": "https://localhost:8080/"
        },
        "id": "ZoQitUnZEKQ-",
        "outputId": "5b299149-88fd-4555-f859-d4e7de216c27"
      },
      "execution_count": 2,
      "outputs": [
        {
          "output_type": "stream",
          "name": "stdout",
          "text": [
            "[5 4 6 3 2 1]\n",
            "Most frequent values = 1\n",
            "Their values = [0 5 7 8 9]\n",
            "[(1, array([0, 1, 2])), (3, array([4, 8, 9]))]\n",
            "[1 3]\n"
          ]
        }
      ]
    },
    {
      "cell_type": "markdown",
      "source": [
        "Q3->"
      ],
      "metadata": {
        "id": "xkXc_PH4EXvI"
      }
    },
    {
      "cell_type": "code",
      "source": [
        "import numpy as np\n",
        "\n",
        "arr = np.array([[10, 20, 30], [40, 50, 60], [70, 80, 90]])\n",
        "\n",
        "# a) Access 1st row, 2nd column\n",
        "element_1 = arr[0, 1]  # Accessing element at row index 0 and column index 1\n",
        "print(f\"Element at 1st row, 2nd column: {element_1}\")\n",
        "\n",
        "# b) Access 3rd row, 1st column\n",
        "element_2 = arr[2, 0]  # Accessing element at row index 2 and column index 0\n",
        "print(f\"Element at 3rd row, 1st column: {element_2}\")"
      ],
      "metadata": {
        "colab": {
          "base_uri": "https://localhost:8080/"
        },
        "id": "Aubdx6BBEWbq",
        "outputId": "4e63589e-f413-437e-c394-369be76f7e8d"
      },
      "execution_count": 3,
      "outputs": [
        {
          "output_type": "stream",
          "name": "stdout",
          "text": [
            "Element at 1st row, 2nd column: 20\n",
            "Element at 3rd row, 1st column: 70\n"
          ]
        }
      ]
    },
    {
      "cell_type": "markdown",
      "source": [
        "Q4->"
      ],
      "metadata": {
        "id": "05zsn_DWEv5z"
      }
    },
    {
      "cell_type": "code",
      "source": [
        "import numpy as np\n",
        "shivansh = np.linspace(10, 100, 25)\n",
        "print(\"Array: \",shivansh)\n",
        "print(\"Dimensions: \",shivansh.ndim)\n",
        "print(\"Shape: \",shivansh.shape)\n",
        "print(\"Total elements: \",shivansh.size)\n",
        "print(\"Data type of each element: \",shivansh.dtype)\n",
        "print(\"Bytes consumed by the array: \",shivansh.nbytes)\n",
        "\n",
        "transpose_array=shivansh.reshape(25,1)\n",
        "print(\"Transpose of the array using reshape\\n: \",transpose_array)\n",
        "print(\"Using T attribute: \",shivansh.T)\n",
        "print(\"Shape after .T: \",shivansh.T.shape)"
      ],
      "metadata": {
        "colab": {
          "base_uri": "https://localhost:8080/"
        },
        "id": "ZK9fRXqnEeOl",
        "outputId": "da9af3c5-0928-4f00-acea-7876aad42197"
      },
      "execution_count": 4,
      "outputs": [
        {
          "output_type": "stream",
          "name": "stdout",
          "text": [
            "Array:  [ 10.    13.75  17.5   21.25  25.    28.75  32.5   36.25  40.    43.75\n",
            "  47.5   51.25  55.    58.75  62.5   66.25  70.    73.75  77.5   81.25\n",
            "  85.    88.75  92.5   96.25 100.  ]\n",
            "Dimensions:  1\n",
            "Shape:  (25,)\n",
            "Total elements:  25\n",
            "Data type of each element:  float64\n",
            "Bytes consumed by the array:  200\n",
            "Transpose of the array using reshape\n",
            ":  [[ 10.  ]\n",
            " [ 13.75]\n",
            " [ 17.5 ]\n",
            " [ 21.25]\n",
            " [ 25.  ]\n",
            " [ 28.75]\n",
            " [ 32.5 ]\n",
            " [ 36.25]\n",
            " [ 40.  ]\n",
            " [ 43.75]\n",
            " [ 47.5 ]\n",
            " [ 51.25]\n",
            " [ 55.  ]\n",
            " [ 58.75]\n",
            " [ 62.5 ]\n",
            " [ 66.25]\n",
            " [ 70.  ]\n",
            " [ 73.75]\n",
            " [ 77.5 ]\n",
            " [ 81.25]\n",
            " [ 85.  ]\n",
            " [ 88.75]\n",
            " [ 92.5 ]\n",
            " [ 96.25]\n",
            " [100.  ]]\n",
            "Using T attribute:  [ 10.    13.75  17.5   21.25  25.    28.75  32.5   36.25  40.    43.75\n",
            "  47.5   51.25  55.    58.75  62.5   66.25  70.    73.75  77.5   81.25\n",
            "  85.    88.75  92.5   96.25 100.  ]\n",
            "Shape after .T:  (25,)\n"
          ]
        }
      ]
    },
    {
      "cell_type": "markdown",
      "source": [
        "Q5->"
      ],
      "metadata": {
        "id": "msUZeOUrFTt3"
      }
    },
    {
      "cell_type": "code",
      "source": [
        "import numpy as np\n",
        "\n",
        "shivansh = np.array([[10, 20, 30, 40],\n",
        "                          [50, 60, 70, 80],\n",
        "                          [90, 15, 20, 35]])\n",
        "\n",
        "mean_value = np.mean(shivansh)\n",
        "median_value = np.median(shivansh)\n",
        "max_value = np.max(shivansh)\n",
        "min_value = np.min(shivansh)\n",
        "unique_elements = np.unique(shivansh)\n",
        "\n",
        "print(\"Original 2D Array:\\n\", shivansh)\n",
        "print(\"\\nMean:\", mean_value)\n",
        "print(\"Median:\", median_value)\n",
        "print(\"Max Value:\", max_value)\n",
        "print(\"Min Value:\", min_value)\n",
        "print(\"Unique Elements:\", unique_elements)\n",
        "\n",
        "reshapedshivansh = shivansh.reshape(4, 3)\n",
        "print(\"\\nReshaped (4x3) Array:\\n\", shivansh)\n",
        "\n",
        "reshapedshivansh = np.resize(shivansh, (2, 3))\n",
        "print(\"\\nResized (2x3) Array:\\n\", reshapedshivansh)\n"
      ],
      "metadata": {
        "colab": {
          "base_uri": "https://localhost:8080/"
        },
        "id": "K4GIauHNE3XM",
        "outputId": "a454ff92-3ed3-4eb1-a60e-b57adafac9dd"
      },
      "execution_count": 5,
      "outputs": [
        {
          "output_type": "stream",
          "name": "stdout",
          "text": [
            "Original 2D Array:\n",
            " [[10 20 30 40]\n",
            " [50 60 70 80]\n",
            " [90 15 20 35]]\n",
            "\n",
            "Mean: 43.333333333333336\n",
            "Median: 37.5\n",
            "Max Value: 90\n",
            "Min Value: 10\n",
            "Unique Elements: [10 15 20 30 35 40 50 60 70 80 90]\n",
            "\n",
            "Reshaped (4x3) Array:\n",
            " [[10 20 30 40]\n",
            " [50 60 70 80]\n",
            " [90 15 20 35]]\n",
            "\n",
            "Resized (2x3) Array:\n",
            " [[10 20 30]\n",
            " [40 50 60]]\n"
          ]
        }
      ]
    }
  ]
}